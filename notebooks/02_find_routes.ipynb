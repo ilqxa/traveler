{
 "cells": [
  {
   "cell_type": "code",
   "execution_count": 1,
   "metadata": {},
   "outputs": [],
   "source": [
    "%load_ext dotenv\n",
    "%dotenv"
   ]
  },
  {
   "cell_type": "code",
   "execution_count": 2,
   "metadata": {},
   "outputs": [],
   "source": [
    "import os\n",
    "import requests"
   ]
  },
  {
   "cell_type": "code",
   "execution_count": 3,
   "metadata": {},
   "outputs": [],
   "source": [
    "API_KEY = os.environ.get('API_KEY')"
   ]
  },
  {
   "cell_type": "markdown",
   "metadata": {},
   "source": [
    "DOCS: https://yandex.ru/dev/rasp/doc/reference/schedule-point-point.html"
   ]
  },
  {
   "cell_type": "code",
   "execution_count": 4,
   "metadata": {},
   "outputs": [],
   "source": [
    "s = requests.Session()"
   ]
  },
  {
   "cell_type": "code",
   "execution_count": 5,
   "metadata": {},
   "outputs": [],
   "source": [
    "res = s.get(\n",
    "    url = 'https://api.rasp.yandex.net/v3.0/search/',\n",
    "    params = {\n",
    "        'apikey': API_KEY,\n",
    "        'from': 'c16',\n",
    "        'to': 'c19',\n",
    "        'date': '2023-07-20',\n",
    "    }\n",
    ")"
   ]
  },
  {
   "cell_type": "code",
   "execution_count": 7,
   "metadata": {},
   "outputs": [],
   "source": [
    "data = res.json()"
   ]
  },
  {
   "cell_type": "code",
   "execution_count": 9,
   "metadata": {},
   "outputs": [
    {
     "data": {
      "text/plain": [
       "{'search': {'from': {'type': 'settlement',\n",
       "   'title': 'Ярославль',\n",
       "   'short_title': 'Ярославль',\n",
       "   'popular_title': 'Ярославль',\n",
       "   'code': 'c16'},\n",
       "  'to': {'type': 'settlement',\n",
       "   'title': 'Сыктывкар',\n",
       "   'short_title': 'Сыктывкар',\n",
       "   'popular_title': 'Сыктывкар',\n",
       "   'code': 'c19'},\n",
       "  'date': '2023-07-20'},\n",
       " 'segments': [{'thread': {'number': '255С',\n",
       "    'title': 'Анапа — Сыктывкар',\n",
       "    'short_title': 'Анапа — Сыктывкар',\n",
       "    'express_type': None,\n",
       "    'transport_type': 'train',\n",
       "    'carrier': {'code': 112,\n",
       "     'title': 'РЖД/ФПК',\n",
       "     'codes': {'sirena': None, 'iata': None, 'icao': None},\n",
       "     'address': 'Москва, ул. Новая Басманная , д. 2',\n",
       "     'url': 'http://www.rzd.ru/',\n",
       "     'email': 'info@rzd.ru',\n",
       "     'contacts': 'Единая телефонная линия: +7 (800) 775-00-00 (звонок бесплатный из всех регионов РФ).',\n",
       "     'phone': '+7 (800) 775-00-00',\n",
       "     'logo': 'https://yastat.net/s3/rasp/media/data/company/logo/logo.gif',\n",
       "     'logo_svg': None},\n",
       "    'uid': '255S_7_2',\n",
       "    'vehicle': None,\n",
       "    'transport_subtype': {'title': None, 'code': None, 'color': None},\n",
       "    'thread_method_link': 'api.rasp.yandex.net/v3/thread/?date=2023-07-18&uid=255S_7_2'},\n",
       "   'stops': '',\n",
       "   'from': {'type': 'station',\n",
       "    'title': 'Ярославль-Главный',\n",
       "    'short_title': '',\n",
       "    'popular_title': 'Ярославль-Главный',\n",
       "    'code': 's9603934',\n",
       "    'station_type': 'train_station',\n",
       "    'station_type_name': 'вокзал',\n",
       "    'transport_type': 'train'},\n",
       "   'to': {'type': 'station',\n",
       "    'title': 'Сыктывкар',\n",
       "    'short_title': None,\n",
       "    'popular_title': None,\n",
       "    'code': 's9604201',\n",
       "    'station_type': 'train_station',\n",
       "    'station_type_name': 'вокзал',\n",
       "    'transport_type': 'train'},\n",
       "   'departure_platform': '',\n",
       "   'arrival_platform': '',\n",
       "   'departure_terminal': None,\n",
       "   'arrival_terminal': None,\n",
       "   'duration': 94920.0,\n",
       "   'has_transfers': False,\n",
       "   'tickets_info': {'et_marker': False, 'places': []},\n",
       "   'departure': '2023-07-20T05:06:00+03:00',\n",
       "   'arrival': '2023-07-21T07:28:00+03:00',\n",
       "   'start_date': '2023-07-18'},\n",
       "  {'thread': {'number': '210Ч',\n",
       "    'title': 'Москва — Сыктывкар',\n",
       "    'short_title': 'Москва — Сыктывкар',\n",
       "    'express_type': None,\n",
       "    'transport_type': 'train',\n",
       "    'carrier': {'code': 112,\n",
       "     'title': 'РЖД/ФПК',\n",
       "     'codes': {'sirena': None, 'iata': None, 'icao': None},\n",
       "     'address': 'Москва, ул. Новая Басманная , д. 2',\n",
       "     'url': 'http://www.rzd.ru/',\n",
       "     'email': 'info@rzd.ru',\n",
       "     'contacts': 'Единая телефонная линия: +7 (800) 775-00-00 (звонок бесплатный из всех регионов РФ).',\n",
       "     'phone': '+7 (800) 775-00-00',\n",
       "     'logo': 'https://yastat.net/s3/rasp/media/data/company/logo/logo.gif',\n",
       "     'logo_svg': None},\n",
       "    'uid': '210CH_4_2',\n",
       "    'vehicle': None,\n",
       "    'transport_subtype': {'title': None, 'code': None, 'color': None},\n",
       "    'thread_method_link': 'api.rasp.yandex.net/v3/thread/?date=2023-07-20&uid=210CH_4_2'},\n",
       "   'stops': '',\n",
       "   'from': {'type': 'station',\n",
       "    'title': 'Ярославль-Главный',\n",
       "    'short_title': '',\n",
       "    'popular_title': 'Ярославль-Главный',\n",
       "    'code': 's9603934',\n",
       "    'station_type': 'train_station',\n",
       "    'station_type_name': 'вокзал',\n",
       "    'transport_type': 'train'},\n",
       "   'to': {'type': 'station',\n",
       "    'title': 'Сыктывкар',\n",
       "    'short_title': None,\n",
       "    'popular_title': None,\n",
       "    'code': 's9604201',\n",
       "    'station_type': 'train_station',\n",
       "    'station_type_name': 'вокзал',\n",
       "    'transport_type': 'train'},\n",
       "   'departure_platform': '',\n",
       "   'arrival_platform': '',\n",
       "   'departure_terminal': None,\n",
       "   'arrival_terminal': None,\n",
       "   'duration': 75480.0,\n",
       "   'has_transfers': False,\n",
       "   'tickets_info': {'et_marker': False, 'places': []},\n",
       "   'departure': '2023-07-20T15:08:00+03:00',\n",
       "   'arrival': '2023-07-21T12:06:00+03:00',\n",
       "   'start_date': '2023-07-20'}],\n",
       " 'interval_segments': [],\n",
       " 'pagination': {'total': 2, 'limit': 100, 'offset': 0}}"
      ]
     },
     "execution_count": 9,
     "metadata": {},
     "output_type": "execute_result"
    }
   ],
   "source": [
    "data"
   ]
  }
 ],
 "metadata": {
  "kernelspec": {
   "display_name": "traveler",
   "language": "python",
   "name": "python3"
  },
  "language_info": {
   "codemirror_mode": {
    "name": "ipython",
    "version": 3
   },
   "file_extension": ".py",
   "mimetype": "text/x-python",
   "name": "python",
   "nbconvert_exporter": "python",
   "pygments_lexer": "ipython3",
   "version": "3.11.0"
  },
  "orig_nbformat": 4
 },
 "nbformat": 4,
 "nbformat_minor": 2
}
