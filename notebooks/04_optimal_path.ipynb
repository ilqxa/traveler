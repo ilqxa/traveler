{
 "cells": [
  {
   "cell_type": "code",
   "execution_count": 1,
   "metadata": {},
   "outputs": [],
   "source": [
    "from pydantic import BaseModel"
   ]
  },
  {
   "cell_type": "code",
   "execution_count": 2,
   "metadata": {},
   "outputs": [],
   "source": [
    "class Point(BaseModel):\n",
    "    title: str\n",
    "    stayTime: int\n",
    "    toleranceTime: int = 1\n",
    "    \n",
    "    class Config:\n",
    "        frozen = True"
   ]
  },
  {
   "cell_type": "code",
   "execution_count": 3,
   "metadata": {},
   "outputs": [],
   "source": [
    "class Section(BaseModel):\n",
    "    pointFrom: Point\n",
    "    pointTo: Point\n",
    "    dateFrom: int\n",
    "    dateTo: int\n",
    "    cost: float\n",
    "    \n",
    "    class Config:\n",
    "        frozen = True"
   ]
  },
  {
   "cell_type": "code",
   "execution_count": 4,
   "metadata": {},
   "outputs": [],
   "source": [
    "points = {\n",
    "    'A': Point(\n",
    "        title = 'A',\n",
    "        stayTime = 1,\n",
    "    ),\n",
    "    'B': Point(\n",
    "        title = 'B',\n",
    "        stayTime = 3,\n",
    "    ),\n",
    "}"
   ]
  },
  {
   "cell_type": "code",
   "execution_count": 5,
   "metadata": {},
   "outputs": [],
   "source": [
    "sections = {\n",
    "    Section(\n",
    "        pointFrom = points['A'],\n",
    "        pointTo = points['B'],\n",
    "        dateFrom = 1,\n",
    "        dateTo = 2,\n",
    "        cost = 100.,\n",
    "    ), # type: ignore\n",
    "    Section(\n",
    "        pointFrom = points['B'],\n",
    "        pointTo = points['A'],\n",
    "        dateFrom = 5,\n",
    "        dateTo = 7,\n",
    "        cost = 100.,\n",
    "    ), # type: ignore\n",
    "}"
   ]
  },
  {
   "cell_type": "code",
   "execution_count": 6,
   "metadata": {},
   "outputs": [],
   "source": [
    "departures = {p: {s for s in sections if s.pointFrom is p} for p in points.values()} # type: ignore"
   ]
  },
  {
   "cell_type": "code",
   "execution_count": 11,
   "metadata": {},
   "outputs": [],
   "source": [
    "def find_edges(\n",
    "    currentPath: list[Section],\n",
    "    departures: dict[Point, set[Section]],\n",
    ") -> set[Section]:\n",
    "    assert currentPath\n",
    "    lastSection = currentPath[-1]\n",
    "    \n",
    "    dateStart = lastSection.dateTo + lastSection.pointTo.stayTime - lastSection.pointTo.toleranceTime\n",
    "    dateEnd = lastSection.dateTo + lastSection.pointTo.stayTime + lastSection.pointTo.toleranceTime\n",
    "    \n",
    "    visited = {s.pointTo for s in currentPath[1:]} # type: ignore\n",
    "    \n",
    "    return {s for s in sections if dateStart <= s.dateFrom <= dateEnd and s.pointTo not in visited} # type: ignore"
   ]
  },
  {
   "cell_type": "code",
   "execution_count": 12,
   "metadata": {},
   "outputs": [],
   "source": [
    "def find_paths(\n",
    "    currentPath: list[Section],\n",
    "    departures: dict[Point, set[Section]],\n",
    ") -> list[list[Section]]:\n",
    "    \n",
    "    if edges := find_edges(\n",
    "        currentPath = currentPath,\n",
    "        departures = departures,\n",
    "    ):\n",
    "        allPaths: list[list[Section]] = []\n",
    "        for e in edges:\n",
    "            allPaths += find_paths(\n",
    "                currentPath = currentPath + [e],\n",
    "                departures = departures,\n",
    "            )\n",
    "        return allPaths\n",
    "    else:\n",
    "        return [currentPath]"
   ]
  },
  {
   "cell_type": "code",
   "execution_count": 13,
   "metadata": {},
   "outputs": [],
   "source": [
    "def build_init_path(\n",
    "    pointInit: Point,\n",
    "    dateInit: int,\n",
    ") -> list[Section]:\n",
    "    return [Section(\n",
    "        pointFrom = pointInit,\n",
    "        pointTo = pointInit,\n",
    "        dateFrom = dateInit,\n",
    "        dateTo = dateInit,\n",
    "        cost = 0.,\n",
    "    )]"
   ]
  },
  {
   "cell_type": "code",
   "execution_count": 14,
   "metadata": {},
   "outputs": [
    {
     "data": {
      "text/plain": [
       "[[Section(pointFrom=Point(title='A', stayTime=1, toleranceTime=1), pointTo=Point(title='A', stayTime=1, toleranceTime=1), dateFrom=0, dateTo=0, cost=0.0),\n",
       "  Section(pointFrom=Point(title='A', stayTime=1, toleranceTime=1), pointTo=Point(title='B', stayTime=3, toleranceTime=1), dateFrom=1, dateTo=2, cost=100.0),\n",
       "  Section(pointFrom=Point(title='B', stayTime=3, toleranceTime=1), pointTo=Point(title='A', stayTime=1, toleranceTime=1), dateFrom=5, dateTo=7, cost=100.0)]]"
      ]
     },
     "execution_count": 14,
     "metadata": {},
     "output_type": "execute_result"
    }
   ],
   "source": [
    "find_paths(build_init_path(points['A'], 0), departures)"
   ]
  },
  {
   "cell_type": "code",
   "execution_count": null,
   "metadata": {},
   "outputs": [],
   "source": []
  }
 ],
 "metadata": {
  "kernelspec": {
   "display_name": "traveler",
   "language": "python",
   "name": "python3"
  },
  "language_info": {
   "codemirror_mode": {
    "name": "ipython",
    "version": 3
   },
   "file_extension": ".py",
   "mimetype": "text/x-python",
   "name": "python",
   "nbconvert_exporter": "python",
   "pygments_lexer": "ipython3",
   "version": "3.11.0"
  },
  "orig_nbformat": 4
 },
 "nbformat": 4,
 "nbformat_minor": 2
}
